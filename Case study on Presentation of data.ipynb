{
 "cells": [
  {
   "cell_type": "markdown",
   "id": "d32dede6",
   "metadata": {},
   "source": [
    "# Read the dataset to the python environment."
   ]
  },
  {
   "cell_type": "code",
   "execution_count": 1,
   "id": "06424839",
   "metadata": {},
   "outputs": [],
   "source": [
    "import pandas as pd\n",
    "import scipy.stats as stats\n",
    "import matplotlib.pyplot as plt\n",
    "import seaborn as sns"
   ]
  },
  {
   "cell_type": "code",
   "execution_count": 2,
   "id": "2fc03d68",
   "metadata": {},
   "outputs": [],
   "source": [
    "df=pd.read_csv('cars_data.csv')"
   ]
  },
  {
   "cell_type": "code",
   "execution_count": 3,
   "id": "ab2eddf4",
   "metadata": {},
   "outputs": [
    {
     "data": {
      "text/html": [
       "<div>\n",
       "<style scoped>\n",
       "    .dataframe tbody tr th:only-of-type {\n",
       "        vertical-align: middle;\n",
       "    }\n",
       "\n",
       "    .dataframe tbody tr th {\n",
       "        vertical-align: top;\n",
       "    }\n",
       "\n",
       "    .dataframe thead th {\n",
       "        text-align: right;\n",
       "    }\n",
       "</style>\n",
       "<table border=\"1\" class=\"dataframe\">\n",
       "  <thead>\n",
       "    <tr style=\"text-align: right;\">\n",
       "      <th></th>\n",
       "      <th>Make</th>\n",
       "      <th>Model</th>\n",
       "      <th>Nickname</th>\n",
       "      <th>Car Gender</th>\n",
       "      <th>Buyer Gender</th>\n",
       "      <th>Buyer Age</th>\n",
       "      <th>Buzzword</th>\n",
       "      <th>Country</th>\n",
       "      <th>City</th>\n",
       "      <th>Dealer Latitude</th>\n",
       "      <th>Dealer Longitude</th>\n",
       "      <th>Color</th>\n",
       "      <th>New Car</th>\n",
       "      <th>Purchase Date</th>\n",
       "      <th>Sale Price</th>\n",
       "      <th>Discount</th>\n",
       "      <th>Resell Price</th>\n",
       "      <th>5-yr Depreciation</th>\n",
       "      <th>Top Speed</th>\n",
       "      <th>0-60 Time</th>\n",
       "    </tr>\n",
       "  </thead>\n",
       "  <tbody>\n",
       "    <tr>\n",
       "      <th>0</th>\n",
       "      <td>Suzuki</td>\n",
       "      <td>Vitara</td>\n",
       "      <td>Philippine</td>\n",
       "      <td>Female</td>\n",
       "      <td>Female</td>\n",
       "      <td>51</td>\n",
       "      <td>User-friendly</td>\n",
       "      <td>Belgium</td>\n",
       "      <td>Antwerpen</td>\n",
       "      <td>51.247239</td>\n",
       "      <td>4.440346</td>\n",
       "      <td>Yellow</td>\n",
       "      <td>False</td>\n",
       "      <td>19/07/2009</td>\n",
       "      <td>54806.14</td>\n",
       "      <td>0.2467</td>\n",
       "      <td>33858.32</td>\n",
       "      <td>0.13</td>\n",
       "      <td>200.9</td>\n",
       "      <td>11.5</td>\n",
       "    </tr>\n",
       "    <tr>\n",
       "      <th>1</th>\n",
       "      <td>Honda</td>\n",
       "      <td>S2000</td>\n",
       "      <td>Henrik</td>\n",
       "      <td>Male</td>\n",
       "      <td>Male</td>\n",
       "      <td>30</td>\n",
       "      <td>analyzing</td>\n",
       "      <td>China</td>\n",
       "      <td>Jinhu</td>\n",
       "      <td>33.025433</td>\n",
       "      <td>119.020584</td>\n",
       "      <td>Crimson</td>\n",
       "      <td>False</td>\n",
       "      <td>26/10/2015</td>\n",
       "      <td>51826.30</td>\n",
       "      <td>0.3147</td>\n",
       "      <td>2989.28</td>\n",
       "      <td>0.02</td>\n",
       "      <td>158.5</td>\n",
       "      <td>8.8</td>\n",
       "    </tr>\n",
       "    <tr>\n",
       "      <th>2</th>\n",
       "      <td>BMW</td>\n",
       "      <td>Z4</td>\n",
       "      <td>Lebbie</td>\n",
       "      <td>Male</td>\n",
       "      <td>Female</td>\n",
       "      <td>54</td>\n",
       "      <td>software</td>\n",
       "      <td>China</td>\n",
       "      <td>Gemo</td>\n",
       "      <td>30.916207</td>\n",
       "      <td>121.677640</td>\n",
       "      <td>Khaki</td>\n",
       "      <td>False</td>\n",
       "      <td>28/03/2010</td>\n",
       "      <td>82929.14</td>\n",
       "      <td>0.5414</td>\n",
       "      <td>35049.16</td>\n",
       "      <td>0.24</td>\n",
       "      <td>149.5</td>\n",
       "      <td>14.4</td>\n",
       "    </tr>\n",
       "    <tr>\n",
       "      <th>3</th>\n",
       "      <td>Toyota</td>\n",
       "      <td>Tacoma</td>\n",
       "      <td>Jefferey</td>\n",
       "      <td>Female</td>\n",
       "      <td>Male</td>\n",
       "      <td>68</td>\n",
       "      <td>monitoring</td>\n",
       "      <td>Portugal</td>\n",
       "      <td>Queluz de Baixo</td>\n",
       "      <td>38.745168</td>\n",
       "      <td>-9.267087</td>\n",
       "      <td>Puce</td>\n",
       "      <td>False</td>\n",
       "      <td>07/05/2008</td>\n",
       "      <td>56928.66</td>\n",
       "      <td>0.0850</td>\n",
       "      <td>8236.15</td>\n",
       "      <td>0.20</td>\n",
       "      <td>153.3</td>\n",
       "      <td>11.5</td>\n",
       "    </tr>\n",
       "    <tr>\n",
       "      <th>4</th>\n",
       "      <td>Ford</td>\n",
       "      <td>Festiva</td>\n",
       "      <td>Glendon</td>\n",
       "      <td>Female</td>\n",
       "      <td>Male</td>\n",
       "      <td>70</td>\n",
       "      <td>Sharable</td>\n",
       "      <td>Latvia</td>\n",
       "      <td>Jaunpils</td>\n",
       "      <td>56.729980</td>\n",
       "      <td>23.016588</td>\n",
       "      <td>Yellow</td>\n",
       "      <td>False</td>\n",
       "      <td>01/06/2008</td>\n",
       "      <td>77201.26</td>\n",
       "      <td>0.1642</td>\n",
       "      <td>32765.76</td>\n",
       "      <td>0.18</td>\n",
       "      <td>122.0</td>\n",
       "      <td>14.9</td>\n",
       "    </tr>\n",
       "  </tbody>\n",
       "</table>\n",
       "</div>"
      ],
      "text/plain": [
       "     Make    Model    Nickname Car Gender Buyer Gender  Buyer Age  \\\n",
       "0  Suzuki   Vitara  Philippine     Female       Female         51   \n",
       "1   Honda    S2000      Henrik       Male         Male         30   \n",
       "2     BMW       Z4      Lebbie       Male       Female         54   \n",
       "3  Toyota   Tacoma    Jefferey     Female         Male         68   \n",
       "4    Ford  Festiva     Glendon     Female         Male         70   \n",
       "\n",
       "        Buzzword   Country             City  Dealer Latitude  \\\n",
       "0  User-friendly   Belgium        Antwerpen        51.247239   \n",
       "1      analyzing     China            Jinhu        33.025433   \n",
       "2       software     China             Gemo        30.916207   \n",
       "3     monitoring  Portugal  Queluz de Baixo        38.745168   \n",
       "4       Sharable    Latvia         Jaunpils        56.729980   \n",
       "\n",
       "   Dealer Longitude    Color  New Car Purchase Date  Sale Price  Discount  \\\n",
       "0          4.440346   Yellow    False    19/07/2009    54806.14    0.2467   \n",
       "1        119.020584  Crimson    False    26/10/2015    51826.30    0.3147   \n",
       "2        121.677640    Khaki    False    28/03/2010    82929.14    0.5414   \n",
       "3         -9.267087     Puce    False    07/05/2008    56928.66    0.0850   \n",
       "4         23.016588   Yellow    False    01/06/2008    77201.26    0.1642   \n",
       "\n",
       "   Resell Price  5-yr Depreciation  Top Speed  0-60 Time  \n",
       "0      33858.32               0.13      200.9       11.5  \n",
       "1       2989.28               0.02      158.5        8.8  \n",
       "2      35049.16               0.24      149.5       14.4  \n",
       "3       8236.15               0.20      153.3       11.5  \n",
       "4      32765.76               0.18      122.0       14.9  "
      ]
     },
     "execution_count": 3,
     "metadata": {},
     "output_type": "execute_result"
    }
   ],
   "source": [
    "df.head()"
   ]
  },
  {
   "cell_type": "markdown",
   "id": "8690337b",
   "metadata": {},
   "source": [
    "# Check for the null values present in the dataset"
   ]
  },
  {
   "cell_type": "code",
   "execution_count": 4,
   "id": "84950fcc",
   "metadata": {},
   "outputs": [
    {
     "data": {
      "text/plain": [
       "Make                 0\n",
       "Model                0\n",
       "Nickname             0\n",
       "Car Gender           0\n",
       "Buyer Gender         0\n",
       "Buyer Age            0\n",
       "Buzzword             0\n",
       "Country              0\n",
       "City                 0\n",
       "Dealer Latitude      0\n",
       "Dealer Longitude     0\n",
       "Color                0\n",
       "New Car              0\n",
       "Purchase Date        0\n",
       "Sale Price           0\n",
       "Discount             0\n",
       "Resell Price         0\n",
       "5-yr Depreciation    0\n",
       "Top Speed            0\n",
       "0-60 Time            0\n",
       "dtype: int64"
      ]
     },
     "execution_count": 4,
     "metadata": {},
     "output_type": "execute_result"
    }
   ],
   "source": [
    "df.isnull().sum()"
   ]
  },
  {
   "cell_type": "markdown",
   "id": "254437b1",
   "metadata": {},
   "source": [
    "There are no null values present in the given data."
   ]
  },
  {
   "cell_type": "markdown",
   "id": "9a41a977",
   "metadata": {},
   "source": [
    "# Plot a bar graph of male vs female buyers participated in the sales"
   ]
  },
  {
   "cell_type": "code",
   "execution_count": 5,
   "id": "635e15fe",
   "metadata": {},
   "outputs": [
    {
     "data": {
      "text/plain": [
       "Text(0, 0.5, 'Number of participant')"
      ]
     },
     "execution_count": 5,
     "metadata": {},
     "output_type": "execute_result"
    },
    {
     "data": {
      "image/png": "[encoded data removed]",
      "text/plain": [
       "<Figure size 1008x576 with 1 Axes>"
      ]
     },
     "metadata": {
      "needs_background": "light"
     },
     "output_type": "display_data"
    }
   ],
   "source": [
    "ax = df['Buyer Gender'].value_counts().plot(kind='bar',\n",
    "                                    figsize=(14,8),\n",
    "                                    title=\"Male vs Female buyers participated\")\n",
    "ax.set_xlabel(\"Buyer Gender\")\n",
    "ax.set_ylabel(\"Number of participant\")"
   ]
  },
  {
   "cell_type": "markdown",
   "id": "a4f9a384",
   "metadata": {},
   "source": [
    "# Find the top 5 cars based on their sales price"
   ]
  },
  {
   "cell_type": "code",
   "execution_count": 8,
   "id": "be3587d3",
   "metadata": {},
   "outputs": [
    {
     "data": {
      "text/plain": [
       "array(['Vitara', 'S2000', 'Z4', 'Tacoma', 'Festiva', 'Skylark', 'QX',\n",
       "       'C/V', 'Safari', 'Altima', 'Previa', 'xB', '928', 'HS', 'Yukon',\n",
       "       'Mirage', 'Viper', 'B2500', 'LR3', 'Space', 'TL', 'Bonneville',\n",
       "       'Dakota Club', 'Cabriolet', 'Sunfire', '2CV', 'Tempo', 'LeSabre',\n",
       "       '9-2X', 'Escape', 'Sable', 'Colt', 'G', 'Spyder', 'Riviera',\n",
       "       'Seville', 'Century', 'iQ', '7 Series', 'Camaro', 'Outback',\n",
       "       'C-Class', 'Sprinter 3500', 'Suburban 1500', 'E-Series', 'XC70',\n",
       "       'Silverado 3500', 'Phaeton', 'CTS', 'Durango', 'Th!nk',\n",
       "       'Continental', 'Ram 1500', 'Rendezvous', 'Mighty Max',\n",
       "       'Pathfinder', 'C70', 'Range Rover Sport', 'B-Series', 'Miata MX-5',\n",
       "       'Sedona', 'Ram Wagon B150', 'Aurora', 'Accent', 'Scoupe', 'MKT',\n",
       "       'riolet', 'Range Rover', 'Dakota', 'Corvette', 'i-MiEV',\n",
       "       'Rally Wagon 3500', 'TSX', 'ZDX', 'Cherokee', 'Avalon',\n",
       "       'Aventador', 'Tracer', 'Express 3500', 'Reatta', 'Jetta',\n",
       "       'Navigator L', '300ZX', 'MR2', 'Swift', 'Tredia', 'Monte Carlo',\n",
       "       'VUE', 'GTI', 'Prowler', 'A8', 'Diablo', 'R-Class', 'XLR', '626',\n",
       "       'Firebird', 'Fit', 'ES', 'Millenia', 'STS', '911', 'Paseo',\n",
       "       'Escalade ESV', 'Alero', 'GS', 'M3', 'Escalade', 'Trans Sport',\n",
       "       'Civic', 'Topaz', 'MPV', '6 Series', 'Lynx', '330', 'Cordia',\n",
       "       'XC90', '228', 'Venture', 'DeVille', 'IS-F', 'Sentra', 'Escort',\n",
       "       'Cutlass Supreme', 'S8', 'Elantra', 'DB9', 'New Beetle',\n",
       "       'Uplander', 'Laser', 'S4', 'LeMans', 'E-Class', 'Tiburon',\n",
       "       '5 Series', 'Echo', 'Precis', 'Breeze', 'Alpina B7', 'Gallardo',\n",
       "       'Grand Am', 'S6', 'Celica', 'Mazdaspeed 3', 'Cayenne',\n",
       "       'Sierra 3500HD', 'Sienna', 'Allroad', 'B-Series Plus', 'Mustang',\n",
       "       '1500', 'Outlook', '100', 'Focus', 'XT', 'Familia', 'Discovery',\n",
       "       'Defender 90', 'Cougar', 'Prius', 'DBS', 'Santa Fe', 'Cavalier',\n",
       "       '9000', 'MX-5', '62', 'Tribeca', 'Q', 'Montero', 'Ram 2500',\n",
       "       'Aviator', 'Murciélago', 'Ram Van 2500', 'Eos', 'MKX', 'Magnum',\n",
       "       'Oasis', 'Freestar', 'Caprice', 'T100 Xtra', 'Ciera', 'Freelander',\n",
       "       'Impala', 'Xterra', '240', 'F-Series', 'Mazda6',\n",
       "       'Continental Flying Spur', '3500', 'Evora', 'SLK-Class', 'Fox',\n",
       "       'CX', 'MDX', 'Sonata', 'Axiom', '9-7X', 'Chariot', 'Grand Voyager',\n",
       "       'Countach', 'i-370', 'Silverado 1500', 'Jetta III', 'SC',\n",
       "       'Element', 'Econoline E250', 'Mazda3', 'F350', 'Taurus', 'Cooper',\n",
       "       'Amigo', 'tC', 'Outlander', 'Camry Hybrid', 'Accord', 'Galant',\n",
       "       'LTD Crown Victoria', 'M-Class', 'Lanos', 'Legacy', 'S-Type',\n",
       "       'Kizashi', 'Envoy XUV', 'Excel', '09-Mar', 'Yukon XL 1500', 'GTO',\n",
       "       'S-Class', 'Tundra', '4000CS Quattro', 'Envoy', 'Ranger', 'LHS',\n",
       "       'G55 AMG', 'Solstice', 'H2', 'Matrix', 'F250', '5000CS', '1000',\n",
       "       '900', '5000S', 'Golf', 'S40', 'Bronco II', 'GLI', 'Imperial',\n",
       "       'Raider', 'Cobalt', 'RX-7', 'Express 1500', 'Integra', '2500',\n",
       "       'H1', '530', 'Villager', 'rio', 'Cutlass', 'Q7', 'E350',\n",
       "       'Yukon XL 2500', 'HHR', 'Pajero', 'Hombre Space', 'Aveo', 'V90',\n",
       "       'Camry', 'Equus', 'Thunderbird', 'Sonoma', 'Grand Prix', '300SL',\n",
       "       '2500 Club Coupe', 'Econoline E350', 'Tribute', 'Acclaim', '325',\n",
       "       'G-Series G30', 'Intrepid', 'Express 2500', 'SRX', 'Tacoma Xtra',\n",
       "       'Phantom', 'Insight', 'Regal', 'Sephia', 'Sidekick', 'Sigma',\n",
       "       'PT Cruiser', 'Electra', 'Continental Mark VII', 'Landaulet', 'G5',\n",
       "       'Routan', '550', 'Explorer', 'Prizm', 'Montero Sport', 'V70',\n",
       "       'Park Avenue', 'XK Series', '300E', 'NSX', 'Grand Vitara',\n",
       "       'Maxima', 'Courier', 'M6', 'Aerio', 'XJ Series', 'M5',\n",
       "       'Rally Wagon G3500', 'G-Class', 'Canyon', 'Savana 2500', 'Lumina',\n",
       "       'Flex', '57', 'Supra', 'LTD', 'Amanti', 'Sportvan G20', 'LR2',\n",
       "       'Eurovan', 'I', 'XL-7', 'Ram 1500 Club', 'Justy', 'Quattroporte',\n",
       "       'F150', 'Rabbit', 'SL-Class', 'Sierra 1500', 'Z4 M', 'Murano',\n",
       "       'RVR', 'Neon', 'Grand Marquis', 'A5', 'Vision', 'Silverado',\n",
       "       '300TE', 'MX-3', 'S-Series', 'CL65 AMG', 'Boxster', 'Pilot',\n",
       "       'Stealth', 'Vibe', 'Club Wagon', 'Town Car', 'Minx Magnificent',\n",
       "       'Ram 3500', 'QX56', 'G25', 'Terrain', '1500 Club Coupe', 'CR-V',\n",
       "       'Defender', 'Sunbird', 'Town & Country', 'Odyssey', '6000',\n",
       "       'Mountaineer', 'E250', 'Type 2', '09-May', 'RAV4', 'Land Cruiser',\n",
       "       'Parisienne', 'X6 M', 'Corolla', 'G6', 'Sierra 2500', 'Truck',\n",
       "       'Sebring', 'Cirrus', 'Crossfire', 'XF', 'Cayman', 'Spectra',\n",
       "       'Tercel', 'Frontier', 'Forenza', '960', 'Rally Wagon 1500',\n",
       "       'Wrangler', 'Intrigue', 'Protege', '80', 'Quattro', '200SX',\n",
       "       'Concorde', '944', 'Ramcharger', 'TrailBlazer', 'CX-7', 'Aerostar',\n",
       "       'Fusion', 'Explorer Sport', 'Galaxie', 'Elan', 'Skyhawk',\n",
       "       'Sonoma Club Coupe', 'RX-8', '240SX', 'Sprinter 2500', '88', 'LS',\n",
       "       'X5', 'Impreza', 'A6', 'SLX', 'Prelude', 'Ram Van 1500', 'Compass',\n",
       "       '600', 'Windstar', 'S5', '600SEL', 'Eclipse', 'Cressida',\n",
       "       'Classic', 'Volt', 'Caravan', 'Patriot', 'Esteem', '929', 'Z8',\n",
       "       'Coupe GT', 'CR-Z', 'Charger', 'Titan', 'TT', 'M', 'Suburban 2500',\n",
       "       'V8 Vantage S', '3000GT', 'Equinox', 'Astro', 'Bronco', 'V40',\n",
       "       'Armada', 'Mini Cooper S', 'Bravada', 'XG350', 'G-Series G10',\n",
       "       'S90', 'CC', 'Samurai', 'Expedition', 'Aspen', 'S10', 'LS Hybrid',\n",
       "       'Chevette', 'Tucson', 'Passat', 'Stratus', '3 Series',\n",
       "       'FJ Cruiser', '300D', 'RX', 'A4', '350Z Roadster', 'Malibu', 'SJ',\n",
       "       'LSS', 'Firebird Trans Am', 'Astra', 'Spirit', 'RL', 'XJ',\n",
       "       'Ridgeline', 'Sierra 3500', 'Nitro', 'Vantage', 'Esprit', 'Rocky',\n",
       "       'Somerset', 'LeBaron', '500SEC', 'Mazda6 Sport', '1 Series',\n",
       "       'Tahoe', 'Challenger', 'Avenger', 'Azure', '350Z', 'Achieva',\n",
       "       'GLK-Class', 'Mazdaspeed6', 'B2000', 'Blazer', 'Colorado',\n",
       "       'Ram Van B250', 'Mazda2', 'MKS', 'VehiCROSS', 'Voyager',\n",
       "       'Diamante', 'Optima', 'Milan', 'Accord Crosstour', '4Runner', 'LX',\n",
       "       'Express', 'RSX', 'Econoline E150', 'A3', 'Envoy XL',\n",
       "       'Grand Cherokee', 'F-Series Super Duty', 'Cube', 'Legend', 'Expo',\n",
       "       'Virage', '500', 'Rainier', 'Savana 1500', 'Veloster', '164',\n",
       "       'Lancer', 'Rodeo', 'X5 M', 'VS Commodore', 'S70', '80/90', 'MKZ',\n",
       "       'W201', 'Terraza', 'EX', 'Rodeo Sport', 'Silhouette', 'Azera',\n",
       "       'GL-Class', '400SEL', 'D250', 'Mulsanne', 'MX-6', 'Ram Van 3500',\n",
       "       'Expedition EL', 'Quest', 'G-Series G20', 'S60', 'Hombre',\n",
       "       'Firefly', 'X-Type', 'Crown Victoria', '760', 'Fiesta',\n",
       "       'V8 Vantage', 'Eldorado', 'CLS-Class', 'Toronado', 'Enclave',\n",
       "       'C30', 'Cultus', 'Continental GT', 'Rio', 'Ascender',\n",
       "       'Cooper Clubman', 'FX', 'xD', 'Marauder', 'Talon', 'Mark LT',\n",
       "       'S80', 'G35', 'Daewoo Lacetti', 'Outback Sport', 'Ram Wagon B250',\n",
       "       'Clubman', 'Avalanche', 'Elise', 'G-Series 1500', 'L-Series',\n",
       "       'Exige', 'F430', 'Mariner', 'Sportvan G30', 'Mystique',\n",
       "       'CLK-Class', 'C8', 'T100', 'xA', 'Veyron', 'del Sol', 'CTS-V',\n",
       "       'Coupe', 'Rapide', 'Sportage', 'Fleetwood', 'Leganza', 'Aztek',\n",
       "       'Endeavor', '300', 'FF', 'Forte', 'Sequoia', 'SVX', 'Edge',\n",
       "       'Continental GTC', 'Beretta', 'Summit', 'Probe', 'L300', 'XC60',\n",
       "       'Forester', 'Jimmy', 'Explorer Sport Trac', 'F450', 'Escalade EXT',\n",
       "       '90', 'Liberty', 'Highlander', 'Navigator', '300SD', 'Acadia',\n",
       "       'Tracker', 'Caprice Classic', 'Caliber', 'XG300',\n",
       "       '3500 Club Coupe', 'Capri', 'Corsica', 'SLR McLaren', 'Loyale',\n",
       "       'Grand Caravan', 'Fortwo', 'XK', 'Vanquish S', 'X3',\n",
       "       '430 Scuderia', 'M Roadster', 'XL7', 'Excursion',\n",
       "       'E-350 Super Duty', 'Countryman', 'Lucerne', 'Roadmaster',\n",
       "       'Firebird Formula', 'Mazda5', 'Leone', 'Xtra', 'APV',\n",
       "       'Savana 3500', 'Venza', 'Premier', 'Fifth Ave', 'Regency',\n",
       "       'Sixty Special', 'Yaris', 'Freestyle', 'Yukon Denali', 'Montana',\n",
       "       'Veracruz', 'IS', 'Ram Van B350', 'CL', 'Estate', 'Ram 50',\n",
       "       'Lancer Evolution', 'Custom Cruiser', 'E150', 'Gemini', 'GT',\n",
       "       'Vandura G3500', '300SE', 'Vandura 3500', 'Metro', 'Sierra 2500HD',\n",
       "       'Interceptor', 'Daewoo Magnus', 'Leaf', 'Mark VIII', 'Navajo',\n",
       "       'Silverado 2500', 'R8', 'Equator', 'Suburban', 'Daytona', 'Ion',\n",
       "       'GX', 'Biturbo', 'Cobalt SS', '458 Italia', 'Nubira', '650',\n",
       "       'D350 Club', 'Aero 8', '8 Series', 'W126', 'Sonic', 'NV1500',\n",
       "       '545', 'California', 'ZX2', 'Alcyone SVX', 'CX-9', 'Trooper',\n",
       "       'SSR', 'Soul', 'Solara', 'S10 Blazer', 'Starion', 'TundraMax',\n",
       "       'Verona', 'Catera', 'Model T', 'Passport', 'Prius Plug-in Hybrid',\n",
       "       'Savana', 'Expo LRV', 'Mighty Max Macro', 'Genesis', 'GranTurismo',\n",
       "       'Type-1h', 'IS F', 'Sundance', 'Avalanche 2500', 'Brooklands',\n",
       "       'Shadow', 'i-280', '370Z', '323', 'Ram', 'H3T', 'Typ-1', 'Tempest',\n",
       "       'Sparrow', 'Aspire', 'Impreza WRX', 'Rondo', 'Rogue',\n",
       "       'Continental Super', '968', 'Sorento', 'Corvair 500', '200',\n",
       "       'XLR-V', '400SE', 'Coupe Quattro', 'Versa', '599 GTB Fiorano',\n",
       "       'H3', 'Taurus X', 'Commander', 'Fiero', '600SEC', 'Corrado',\n",
       "       'Contour', 'Ram 2500 Club', 'Comanche', 'Arnage', 'Rio5',\n",
       "       'Datsun/Nissan Z-car', 'CT', 'RS4', 'V50', 'CL-Class', 'Charade',\n",
       "       'Touareg', 'Torrent', 'Mini Cooper', 'HED-5', 'J', 'SJ 410',\n",
       "       '500SEL', 'Relay', 'Vandura 2500', 'Discovery Series II',\n",
       "       'i-Series', 'Pacifica', 'Sprinter', 'Gran Sport', 'Sierra',\n",
       "       'Vigor', 'C8 Spyder', 'Lumina APV', 'Baja', 'Coachbuilder',\n",
       "       'Tiguan', 'SM', 'V12 Vantage', '745', 'New Yorker', 'Vandura 1500',\n",
       "       'Touareg 2', 'B2600', 'SX4', 'Q5', 'SLS-Class', 'Falcon',\n",
       "       'Traverse', 'Brat', 'Stylus', 'Golf III', 'RX Hybrid', '300M',\n",
       "       'EXP', 'Turbo Firefly', 'Fillmore', 'XR4Ti', 'FR-S', 'V8', 'Reno',\n",
       "       'Carens', 'Defender Ice Edition', 'DB9 Volante', '525',\n",
       "       'G-Series 3500', 'DTS', 'i-290', 'Civic GX', 'Quantum', 'Avanti',\n",
       "       'Zephyr', 'Brougham', 'Karif', 'Cruze', 'Camry Solara', 'Marquis',\n",
       "       '98', 'Journey', 'Dynasty', 'Impulse', 'Avalanche 1500',\n",
       "       'Mazda6 5-Door', 'G-Series 2500', 'R32', 'X-90', 'C8 Laviolette',\n",
       "       'Transit Connect', 'Daewoo Kalos', 'Pathfinder Armada',\n",
       "       'Genesis Coupe', 'Colt Vista', 'Mentor', 'Beetle', 'Verano',\n",
       "       'JUKE', 'Horizon', 'Spider', '600SL', 'Ram 3500 Club', 'D350',\n",
       "       '280ZX', 'Ghost', 'MGB', 'Monterey', '57S', 'D150 Club',\n",
       "       'Impala SS', 'Rally Wagon 2500', 'D150', 'LaCrosse', 'Monaro',\n",
       "       'Spectra5', 'NV3500', 'Montego', 'Mark VII', 'Stanza', 'Monza',\n",
       "       'BRZ', 'LR4', 'STS-V', 'G8', 'Crossfire Roadster', 'Carrera GT',\n",
       "       'Sportvan G10', 'Country', 'Five Hundred', 'Fairlane', 'GT-R',\n",
       "       'RS 4', 'X6', 'Civic Si', '940', 'C8 Double 12 S', 'SLS AMG',\n",
       "       'Model S', '5000CS Quattro', 'CR-X', 'GT500', 'Ram Wagon B350',\n",
       "       'Montana SV6', 'RDX', 'Alliance', 'RS 6', 'B9 Tribeca',\n",
       "       'Defender 110', '500E', 'Rally Wagon G2500', 'Yukon XL',\n",
       "       'C8 Spyder Wide Body', 'Panamera', 'Reventón', '645',\n",
       "       'Cutlass Cruiser', '300C', 'G37', '612 Scaglietti',\n",
       "       'Grand Prix Turbo', 'Aura', 'Esperante', '190E',\n",
       "       'E-350 Super Duty Van', '207', 'Viper RT/10', 'CX-5',\n",
       "       'Outlander Sport', 'C-MAX Hybrid', 'Sonoma Club', '2e', 'Focus ST',\n",
       "       'GranSport', 'F430 Spider', '500SL', 'LUV', 'Monaco', 'Crosstour',\n",
       "       'Roadster', 'Volare', 'Escort ZX2', 'SL65 AMG', '400E', '850',\n",
       "       '430', 'W123', 'Hearse', 'HHR Panel', 'Scirocco', 'Prius v', '914',\n",
       "       'Bel Air', 'K5 Blazer', 'Cooper Countryman', 'Prius c',\n",
       "       'D250 Club', 'Range Rover Classic', '4000s', 'H2 SUT',\n",
       "       'Ram Van B150', 'Sky', 'Roadrunner', 'NV2500', 'Murciélago LP640',\n",
       "       'Azure T', 'RS6', 'Z3', 'H2 SUV', 'IPL G', 'Special', 'Nuova 500',\n",
       "       'Range Rover Evoque', 'Silverado 3500HD', 'EV1',\n",
       "       'Savana Cargo Van', 'Citation'], dtype=object)"
      ]
     },
     "execution_count": 8,
     "metadata": {},
     "output_type": "execute_result"
    }
   ],
   "source": [
    "df['Model'].unique()"
   ]
  },
  {
   "cell_type": "code",
   "execution_count": 22,
   "id": "dcf43246",
   "metadata": {},
   "outputs": [
    {
     "name": "stdout",
     "output_type": "stream",
     "text": [
      "            Make      Model\n",
      "5984  Volkswagen  Jetta III\n",
      "1270        Audi         A6\n",
      "3460       Lexus         LX\n",
      "9032       Mazda       MX-6\n",
      "302        Lexus         ES\n"
     ]
    }
   ],
   "source": [
    "a = df.nlargest(5, 'Sale Price')[['Make','Model']]\n",
    "print (a)"
   ]
  },
  {
   "cell_type": "markdown",
   "id": "63a294dd",
   "metadata": {},
   "source": [
    "From the above list we can verify top 5 cars with respect to their sale price."
   ]
  },
  {
   "cell_type": "markdown",
   "id": "38a3e030",
   "metadata": {},
   "source": [
    "# Find the least 5 cars based on their Resell price"
   ]
  },
  {
   "cell_type": "code",
   "execution_count": 23,
   "id": "01aaace1",
   "metadata": {},
   "outputs": [
    {
     "name": "stdout",
     "output_type": "stream",
     "text": [
      "            Make        Model\n",
      "2446   Chevrolet         1500\n",
      "4933         GMC  Savana 1500\n",
      "566       Jaguar           XF\n",
      "2538  Mitsubishi       3000GT\n",
      "5869    Infiniti          G37\n"
     ]
    }
   ],
   "source": [
    "b = df.nsmallest(5, 'Resell Price')[['Make','Model']]\n",
    "print (b)"
   ]
  },
  {
   "cell_type": "markdown",
   "id": "e7624cc8",
   "metadata": {},
   "source": [
    "From the above list we can verify least 5 cars with respect to their sale price."
   ]
  },
  {
   "cell_type": "markdown",
   "id": "d859398e",
   "metadata": {},
   "source": [
    "# Submitted By: Krishnadas M"
   ]
  },
  {
   "cell_type": "code",
   "execution_count": null,
   "id": "5a23aced",
   "metadata": {},
   "outputs": [],
   "source": []
  }
 ],
 "metadata": {
  "kernelspec": {
   "display_name": "Python 3 (ipykernel)",
   "language": "python",
   "name": "python3"
  },
  "language_info": {
   "codemirror_mode": {
    "name": "ipython",
    "version": 3
   },
   "file_extension": ".py",
   "mimetype": "text/x-python",
   "name": "python",
   "nbconvert_exporter": "python",
   "pygments_lexer": "ipython3",
   "version": "3.9.7"
  }
 },
 "nbformat": 4,
 "nbformat_minor": 5
}
